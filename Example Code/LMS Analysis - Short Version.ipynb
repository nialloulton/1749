{
 "cells": [
  {
   "cell_type": "code",
   "execution_count": 236,
   "id": "af442597-058e-42fb-b3f8-ada8d4110893",
   "metadata": {},
   "outputs": [],
   "source": [
    "import requests\n",
    "from bs4 import BeautifulSoup\n",
    "import pandas as pd\n",
    "import matplotlib.pyplot as plt\n",
    "import numpy as np\n",
    "import arviz as az\n",
    "import seaborn as sns\n",
    "import pymc as pm\n",
    "import seaborn as sns\n",
    "sns.set()\n",
    "\n",
    "\n",
    "\n"
   ]
  },
  {
   "cell_type": "markdown",
   "id": "30a995c7-f85b-4847-9944-6a9e97ca344f",
   "metadata": {},
   "source": [
    "# Coversion Analysis of Cricket Data, Quokkas CC"
   ]
  },
  {
   "cell_type": "markdown",
   "id": "44338dce-4448-4b4b-a1be-d493c822102b",
   "metadata": {},
   "source": [
    "# Introduction\n",
    "\n",
    "This python notebook works through a tutorial of how to perform hierachical bayesian analysis on cricket data. One of the teams i've played for in the past is Quokkas CC: http://quokkascc.com//.  Quokkas are a global cricket franchise playing across multiple formats, one core format is the LMS (T20). One of the good aspects of LMS is the richness of the source of data, therefore presents itself as a perfect repository to perform data analysis on.\n",
    "\n",
    "The data we're going to be accessing is the batsman score per innings in a game, which also contains other information about their innings. The overall mission of the notebook is to find the overall probability of a player converting a score to a 50. However this problem can be generalised to any context when analysing conversions, e.g website conversions. For more info on other applications of analytics goto http://1749.io."
   ]
  },
  {
   "cell_type": "markdown",
   "id": "1ee8e6fe-9e27-4b64-90c2-d1f4b00043f0",
   "metadata": {},
   "source": [
    "## Webscraping\n",
    "\n",
    "The first step is to access all the data required. For this I use a simple webscraper, BeautifulSoup. The function I've created takes a list of links and then extracts out the scorecard information for the team. The links can be replaced (to your own team) or additonal links can be added. \n",
    "\n"
   ]
  },
  {
   "cell_type": "code",
   "execution_count": 237,
   "id": "a7c2b8a1-bb4a-49e6-9103-2b7984831f04",
   "metadata": {},
   "outputs": [
    {
     "name": "stdout",
     "output_type": "stream",
     "text": [
      "                   Batsmen Runs Balls 4s 6s      SR\n",
      "1       Alan ElliottCaught    1     2  0  0   50.00\n",
      "2     Charan LochanNot Out   50    22  8  0  227.27\n",
      "3     Jared FagbergNot Out   43    24  5  1  179.17\n",
      "4   Scott LearmonthNot Out   24    15  3  0  160.00\n",
      "1     Jamie BaldwinNot Out   53    24  5  2  220.83\n",
      "..                     ...  ...   ... .. ..     ...\n",
      "4          Seil SongCaught   31    22        140.91\n",
      "5       Alan ElliottBowled   19    26         73.08\n",
      "6        Tridib DasNot Out    6     7         85.71\n",
      "7          Dave BarnettLBW    1     2         50.00\n",
      "8     Robin BradleyNot Out    1     2         50.00\n",
      "\n",
      "[184 rows x 6 columns]\n"
     ]
    }
   ],
   "source": [
    "def scrape_scorecard(url):\n",
    "    response = requests.get(url)\n",
    "    soup = BeautifulSoup(response.text, 'html.parser')\n",
    "\n",
    "    # Find the table that contains the data we want to extract\n",
    "    table = soup.find(\"table\")\n",
    "\n",
    "    # Extract the rows of the table\n",
    "    rows = table.find_all(\"tr\")\n",
    "\n",
    "    # Initialize an empty list to store the data\n",
    "    data = []\n",
    "\n",
    "    # Loop through each row in the table\n",
    "    for row in rows:\n",
    "        # Extract the cells of the row\n",
    "        cells = row.find_all(\"td\")\n",
    "\n",
    "        # Initialize an empty list to store the data for this row\n",
    "        row_data = []\n",
    "\n",
    "        # Loop through each cell in the row\n",
    "        for cell in cells:\n",
    "            # Extract the text from the cell and add it to the row data\n",
    "            row_data.append(cell.text.strip())\n",
    "\n",
    "        # If the row data contains the word \"Extras\", stop adding data to the list\n",
    "        if \"Extras\" in row_data:\n",
    "            break\n",
    "\n",
    "        # Add the row data to the list of all data\n",
    "        data.append(row_data)\n",
    "\n",
    "    # Create a pandas dataframe from the extracted data\n",
    "    df = pd.DataFrame(data, columns=[\"Batsmen\", \"Runs\", \"Balls\", \"4s\", \"6s\", \"SR\"])\n",
    "\n",
    "    # Remove any rows that have missing data\n",
    "    df = df.dropna()\n",
    "\n",
    "    return df\n",
    "\n",
    "# Example list of links\n",
    "links = [\n",
    "    \"https://www.lastmanstands.com/leagues/scorecard/2nd-innings?fixtureid=360720\",\n",
    "    \"https://www.lastmanstands.com/leagues/scorecard/1st-innings?fixtureid=360715\",\n",
    "    \"https://www.lastmanstands.com/leagues/scorecard/1st-innings?fixtureid=345371\",\n",
    "    \"https://www.lastmanstands.com/leagues/scorecard/2nd-innings?fixtureid=345387\",\n",
    "    \"https://www.lastmanstands.com/leagues/scorecard/2nd-innings?fixtureid=345384\",\n",
    "    \"https://www.lastmanstands.com/leagues/scorecard/2nd-innings?fixtureid=345382\",\n",
    "    \"https://www.lastmanstands.com/leagues/scorecard/2nd-innings?fixtureid=345379\",\n",
    "    \"https://www.lastmanstands.com/leagues/scorecard/1st-innings?fixtureid=345372\",\n",
    "    \"https://www.lastmanstands.com/leagues/scorecard/1st-innings?fixtureid=362043\",\n",
    "    \"https://www.lastmanstands.com/leagues/scorecard/1st-innings?fixtureid=309963\",\n",
    "    \"https://www.lastmanstands.com/leagues/scorecard/2nd-innings?fixtureid=309938\",\n",
    "    \"https://www.lastmanstands.com/leagues/scorecard/2nd-innings?fixtureid=309960\",\n",
    "    \"https://www.lastmanstands.com/leagues/scorecard/2nd-innings?fixtureid=309958\",\n",
    "    \"https://www.lastmanstands.com/leagues/scorecard/2nd-innings?fixtureid=309946\",\n",
    "    \"https://www.lastmanstands.com/leagues/scorecard/2nd-innings?fixtureid=309943\",\n",
    "    \"https://www.lastmanstands.com/leagues/scorecard/2nd-innings?fixtureid=309939\",\n",
    "    \"https://www.lastmanstands.com/leagues/scorecard/1st-innings?fixtureid=291434\",\n",
    "    \"https://www.lastmanstands.com/leagues/scorecard/1st-innings?fixtureid=291430\",\n",
    "    \"https://www.lastmanstands.com/leagues/scorecard/1st-innings?fixtureid=291429\",\n",
    "    \"https://www.lastmanstands.com/leagues/scorecard/2nd-innings?fixtureid=248218\",\n",
    "    \"https://www.lastmanstands.com/leagues/scorecard/2nd-innings?fixtureid=248235\",\n",
    "    \"https://www.lastmanstands.com/leagues/scorecard/1st-innings?fixtureid=248238\",\n",
    "    \"https://www.lastmanstands.com/leagues/scorecard/1st-innings?fixtureid=248214\",\n",
    "    \"https://www.lastmanstands.com/leagues/scorecard/2nd-innings?fixtureid=248228\",\n",
    "    \"https://www.lastmanstands.com/leagues/scorecard/2nd-innings?fixtureid=248225\",\n",
    "    \"https://www.lastmanstands.com/leagues/scorecard/1st-innings?fixtureid=248213\"\n",
    "    \n",
    "]\n",
    "\n",
    "# Create an empty list to store the dataframes\n",
    "df_list = []\n",
    "\n",
    "# Loop through each link in the list\n",
    "for link in links:\n",
    "    # Scrape the data from each link and add it to the list of dataframes\n",
    "    df_list.append(scrape_scorecard(link))\n",
    "\n",
    "# Concatenate all of the dataframes into one large dataframe\n",
    "df = pd.concat(df_list)\n",
    "\n",
    "print(df)\n"
   ]
  },
  {
   "cell_type": "markdown",
   "id": "906b4a6b-055b-4fbb-b9a1-613aefacaccb",
   "metadata": {},
   "source": [
    "## Data Cleaning\n",
    "\n",
    "The data has come out pretty well, although there are some issues in the Batsmen column. The method of dismissal has been included in the column. Therefore this will require some maniupliation to clean the data. For simplicity of following this tutorial, i've also excluded any players which have played less than 3 games.\n",
    "\n",
    "A nuance of the LMS league is that you have to retire at 50. You are able to come back in, after all players are out. Therefore we see a modal score of 50, then some scores appear after this where players have been able to come back in."
   ]
  },
  {
   "cell_type": "code",
   "execution_count": 238,
   "id": "8a6fbd09-f9e6-4b6c-bc68-b999c9189b18",
   "metadata": {},
   "outputs": [
    {
     "name": "stderr",
     "output_type": "stream",
     "text": [
      "C:\\Users\\Niall\\AppData\\Local\\Temp\\ipykernel_61056\\2637161475.py:2: FutureWarning: The default value of regex will change from True to False in a future version.\n",
      "  df['Batsmen'] = df['Batsmen'].str.replace(r'(Bowled|Caught|LBW|Not Out|Run Out|Stumped)', '')\n"
     ]
    }
   ],
   "source": [
    "df['Dismissal'] = df['Batsmen'].str.extract(r'(Bowled|Caught|LBW|Not Out|Run Out|Stumped)', expand=False)\n",
    "df['Batsmen'] = df['Batsmen'].str.replace(r'(Bowled|Caught|LBW|Not Out|Run Out|Stumped)', '')\n",
    "\n",
    "# Convert columns to integers\n",
    "df['Runs'] = df['Runs'].astype(int)\n",
    "df['Balls'] = df['Balls'].astype(int)\n",
    "\n",
    "\n",
    "#Change the 4 here to include more players\n",
    "value_counts = df['Batsmen'].value_counts()\n",
    "df = df[df['Batsmen'].isin(value_counts[value_counts >= 4].index)].reset_index().rename(columns={\"index\": \"batting number\"})\n"
   ]
  },
  {
   "cell_type": "markdown",
   "id": "468683ed-0efc-426c-821c-d341871c0606",
   "metadata": {},
   "source": [
    "## Charting & EDA\n",
    "\n",
    "Plotting the histogram of runs scored, you can see the big modal spike at 50, then a small number of innings after this point. This is essentially a semi-censoring issue, we would have expected players at 50 to reach a higher score"
   ]
  },
  {
   "cell_type": "code",
   "execution_count": 239,
   "id": "aa2e8602-1b7d-46c3-8164-2a63c3f5a5d2",
   "metadata": {},
   "outputs": [
    {
     "data": {
      "text/plain": [
       "Text(0, 0.5, 'Number of Occurances')"
      ]
     },
     "execution_count": 239,
     "metadata": {},
     "output_type": "execute_result"
    },
    {
     "data": {
      "image/png": "[encoded data removed]",
      "text/plain": [
       "<Figure size 640x480 with 1 Axes>"
      ]
     },
     "metadata": {},
     "output_type": "display_data"
    }
   ],
   "source": [
    "#Plotting a histogram of the runs scored\n",
    "plt.hist(df[\"Runs\"].values.astype(int),bins=15, cumulative=False);\n",
    "plt.title(\"Distribution of LMS Quokkas Runs by Player\")\n",
    "plt.xlabel(\"Runs Scored\")\n",
    "plt.ylabel(\"Number of Occurances\")\n"
   ]
  },
  {
   "cell_type": "markdown",
   "id": "196cd497-b8e7-4670-8b96-5b5e7d212ae3",
   "metadata": {},
   "source": [
    "# Truncating the data\n",
    "\n",
    "In my first analysis, i'm only interested in the first innings score. In later tutorials, i will work in some methods we can account for the censored data issue. Therefore any observations over 50, I will truncate and recode the score as 50."
   ]
  },
  {
   "cell_type": "code",
   "execution_count": 240,
   "id": "02bff19d-7e77-4a72-935c-4f4c5464d239",
   "metadata": {},
   "outputs": [],
   "source": [
    "df['Runs'] = np.where(df['Runs'] > 50, 50, df['Runs'])\n"
   ]
  },
  {
   "cell_type": "code",
   "execution_count": 241,
   "id": "14f597f7-e63f-432c-9ec9-4f45dc518b75",
   "metadata": {},
   "outputs": [
    {
     "data": {
      "text/plain": [
       "Text(0, 0.5, 'Number of Occurances')"
      ]
     },
     "execution_count": 241,
     "metadata": {},
     "output_type": "execute_result"
    },
    {
     "data": {
      "image/png": "[encoded data removed]",
      "text/plain": [
       "<Figure size 640x480 with 1 Axes>"
      ]
     },
     "metadata": {},
     "output_type": "display_data"
    }
   ],
   "source": [
    "#Plotting a histogram of the runs scored\n",
    "plt.hist(df[\"Runs\"].values.astype(int),bins=15, cumulative=True);\n",
    "plt.title(\"Distribution of LMS Quokkas Runs by Player\")\n",
    "plt.xlabel(\"Runs Scored\")\n",
    "plt.ylabel(\"Number of Occurances\")"
   ]
  },
  {
   "cell_type": "markdown",
   "id": "8220af28-5355-4357-9c50-4e2e4318cf4a",
   "metadata": {},
   "source": [
    "## Heteroscedasicity of the data\n",
    "\n",
    "It's also interesting to look at the relationship between the number of runs and balls. As we can see the level of heteroscedasdicity of runs increases as the number of balls increases. If this was of interest, there are other statistical techniques we can use to control for this.\n",
    "\n",
    "I've included a dotted line where the data has now been truncated at 50"
   ]
  },
  {
   "cell_type": "code",
   "execution_count": 242,
   "id": "3acf2f0c-94c7-4e55-9c84-d7f42524c740",
   "metadata": {},
   "outputs": [
    {
     "data": {
      "image/png": "[encoded data removed]",
      "text/plain": [
       "<Figure size 640x480 with 1 Axes>"
      ]
     },
     "metadata": {},
     "output_type": "display_data"
    }
   ],
   "source": [
    "# Convert columns to integers\n",
    "df['Runs'] = df['Runs'].astype(int)\n",
    "df['Balls'] = df['Balls'].astype(int)\n",
    "\n",
    "plt.scatter(df['Runs'], df['Balls'])\n",
    "plt.axvline(x=50, linestyle='--', color='red')\n",
    "plt.title(\"Runs per innings by player\")\n",
    "plt.xlabel('Runs')\n",
    "plt.ylabel('Balls')\n",
    "plt.show()"
   ]
  },
  {
   "cell_type": "markdown",
   "id": "8a54b374-ea89-49ae-9a63-5b3b7a4a24c8",
   "metadata": {},
   "source": [
    "## Methods of dismissal\n",
    "\n",
    "Exploring the method of dismissal on this chart is of interest too. We can see that generally there is a higher occurance of LBW & bowled early in batters innings. This potentially suggests that players of lower ability score less and are more prone to these types of dismissals. Whereas more established batters are often out caught. "
   ]
  },
  {
   "cell_type": "code",
   "execution_count": 243,
   "id": "f833cd56-5812-4de2-8dfe-382699dfd656",
   "metadata": {},
   "outputs": [
    {
     "data": {
      "text/plain": [
       "<seaborn.axisgrid.FacetGrid at 0x20b493686d0>"
      ]
     },
     "execution_count": 243,
     "metadata": {},
     "output_type": "execute_result"
    },
    {
     "data": {
      "image/png": "[encoded data removed]",
      "text/plain": [
       "<Figure size 616.125x500 with 1 Axes>"
      ]
     },
     "metadata": {},
     "output_type": "display_data"
    }
   ],
   "source": [
    "sns.relplot(data=df, x=\"Runs\", y=\"Balls\", hue=\"Dismissal\")"
   ]
  },
  {
   "cell_type": "markdown",
   "id": "c6b1d425-d160-4674-a543-3caf14c256f7",
   "metadata": {},
   "source": [
    "## Data EDA\n",
    "\n",
    "In addtion to graphical EDA. We can do some calculations on the data to draw out any more insights."
   ]
  },
  {
   "cell_type": "markdown",
   "id": "6c04ae8e-2380-42d6-a201-950199956f16",
   "metadata": {},
   "source": [
    "### Most common form of dismissal (including not outs)"
   ]
  },
  {
   "cell_type": "code",
   "execution_count": 244,
   "id": "491c58d1-486a-44b2-8d64-be1953966cfb",
   "metadata": {},
   "outputs": [
    {
     "name": "stdout",
     "output_type": "stream",
     "text": [
      "Mode of Dismissal for each player: \n",
      " Batsmen\n",
      "Alan Elliott           Not Out\n",
      "Charan Lochan           Caught\n",
      "Dave Barlow            Not Out\n",
      "Dave Barnett           Not Out\n",
      "David Cosway            Bowled\n",
      "Guy Walker             Not Out\n",
      "Herculano Rodrigues     Caught\n",
      "Jared Fagberg           Caught\n",
      "Laurence Williams      Not Out\n",
      "Loughlin Magowan        Bowled\n",
      "Scott Learmonth        Not Out\n",
      "Sohail Abdi             Bowled\n",
      "Tridib Das             Not Out\n",
      "Name: Dismissal, dtype: object\n"
     ]
    }
   ],
   "source": [
    "# Mode of dismissal for each player\n",
    "mode_of_dismissal = df.groupby('Batsmen')['Dismissal'].agg(lambda x: x.value_counts().index[0])\n",
    "print(\"Mode of Dismissal for each player: \\n\", *mode_of_dismissal)"
   ]
  },
  {
   "cell_type": "markdown",
   "id": "f2c822cc-4c4f-4812-bc18-be789bda1ac5",
   "metadata": {},
   "source": [
    "### Most common dismissal (excluding not outs)"
   ]
  },
  {
   "cell_type": "code",
   "execution_count": 245,
   "id": "29f55c15-842d-4878-850a-24d43e7e005f",
   "metadata": {},
   "outputs": [
    {
     "name": "stdout",
     "output_type": "stream",
     "text": [
      "Most Common Dismissal for each player ignoring Not Outs: \n",
      " Batsmen\n",
      "Alan Elliott            Caught\n",
      "Charan Lochan           Caught\n",
      "Dave Barlow             Caught\n",
      "Dave Barnett            Caught\n",
      "David Cosway            Bowled\n",
      "Guy Walker             Run Out\n",
      "Herculano Rodrigues     Caught\n",
      "Jared Fagberg           Caught\n",
      "Laurence Williams       Bowled\n",
      "Loughlin Magowan        Bowled\n",
      "Scott Learmonth         Bowled\n",
      "Sohail Abdi             Bowled\n",
      "Tridib Das              Caught\n",
      "Name: Dismissal, dtype: object\n"
     ]
    }
   ],
   "source": [
    "#Most Common Dismissal ignoring Not Outs\n",
    "mode_of_dismissal = df.loc[df[\"Dismissal\"] != \"Not Out\"].groupby(\"Batsmen\")[\"Dismissal\"].agg(lambda x: x.value_counts().index[0])\n",
    "print(\"Most Common Dismissal for each player ignoring Not Outs: \\n\", *mode_of_dismissal)"
   ]
  },
  {
   "cell_type": "markdown",
   "id": "679a720d-df69-444c-9003-b690c4fbfdd3",
   "metadata": {},
   "source": [
    "### Quickest 50 scored (Each innings is 100 balls and 60 minutes long)"
   ]
  },
  {
   "cell_type": "code",
   "execution_count": 246,
   "id": "78a319e9-8b3b-4aaf-99b9-a9495a061074",
   "metadata": {},
   "outputs": [
    {
     "name": "stdout",
     "output_type": "stream",
     "text": [
      "Top 10 Quickest 50s: \n",
      "                Batsmen  Minutes\n",
      "132      Jared Fagberg      9.6\n",
      "8    Laurence Williams     10.2\n",
      "31   Laurence Williams     13.2\n",
      "28     Scott Learmonth     13.2\n",
      "1        Charan Lochan     13.2\n",
      "6           Guy Walker     13.2\n",
      "98     Scott Learmonth     13.8\n",
      "71       Charan Lochan     13.8\n",
      "68       Charan Lochan     14.4\n",
      "4          Dave Barlow     15.0\n"
     ]
    }
   ],
   "source": [
    "# Top 10 quickest 50s\n",
    "df['Minutes'] = df['Balls'] * 0.6\n",
    "df['Fifty'] = np.where(df['Runs'] >= 50, True, False)\n",
    "top_10_quickest_50s = df.loc[df['Fifty'] == True].sort_values(by='Minutes').head(10)\n",
    "print(\"Top 10 Quickest 50s: \\n\", *top_10_quickest_50s[['Batsmen', 'Minutes']])"
   ]
  },
  {
   "cell_type": "markdown",
   "id": "11f13b13-a696-4706-bcc2-b201e976b93f",
   "metadata": {},
   "source": [
    "### Slowest strike-rate in an innings (more than 15 balls)"
   ]
  },
  {
   "cell_type": "code",
   "execution_count": 247,
   "id": "b336a840-ee77-4e0f-829d-5174b6b6432d",
   "metadata": {},
   "outputs": [
    {
     "name": "stdout",
     "output_type": "stream",
     "text": [
      "10 Innings with Slowest Strike Rate (faced more than 10 balls): \n",
      "                  Batsmen  Strike Rate\n",
      "137         Alan Elliott    73.076923\n",
      "67   Herculano Rodrigues    75.000000\n",
      "94          Alan Elliott    80.000000\n",
      "110           Tridib Das    86.486486\n",
      "39          Alan Elliott   100.000000\n",
      "84         Charan Lochan   100.000000\n",
      "85          Alan Elliott   100.000000\n",
      "136        Jared Fagberg   100.000000\n",
      "135      Scott Learmonth   104.166667\n",
      "21          Alan Elliott   112.500000\n"
     ]
    }
   ],
   "source": [
    "# 10 innings with slowest strike rate (faced more than 10 balls)\n",
    "df['Strike Rate'] = df['Runs'] / df['Balls'] * 100\n",
    "slow_strike_rate = df.loc[(df['Balls'] >= 15) & (df['Strike Rate'] < 120)].sort_values(by='Strike Rate').head(10)\n",
    "print(\"10 Innings with Slowest Strike Rate (faced more than 10 balls): \\n\", *slow_strike_rate[['Batsmen', 'Strike Rate']])"
   ]
  },
  {
   "cell_type": "markdown",
   "id": "49203acc-f97a-49ef-8a50-6783e170aa33",
   "metadata": {},
   "source": [
    "### Average number of runs per dismissal type"
   ]
  },
  {
   "cell_type": "code",
   "execution_count": 248,
   "id": "25a8635d-9d4d-46c2-b094-7a31036dc332",
   "metadata": {},
   "outputs": [
    {
     "name": "stdout",
     "output_type": "stream",
     "text": [
      "Average Runs per Dismissal for each player: \n",
      "                 Batsmen Dismissal       Runs\n",
      "0          Alan Elliott    Bowled  26.000000\n",
      "1          Alan Elliott    Caught  12.250000\n",
      "2          Alan Elliott       LBW   2.000000\n",
      "3          Alan Elliott   Not Out  27.600000\n",
      "4          Alan Elliott   Stumped  28.000000\n",
      "5         Charan Lochan    Bowled  10.500000\n",
      "6         Charan Lochan    Caught  34.750000\n",
      "7         Charan Lochan       LBW   0.000000\n",
      "8         Charan Lochan   Not Out  50.000000\n",
      "9           Dave Barlow    Bowled  16.333333\n",
      "10          Dave Barlow    Caught   6.333333\n",
      "11          Dave Barlow   Not Out  33.000000\n",
      "12          Dave Barlow   Run Out  10.000000\n",
      "13         Dave Barnett    Bowled  16.000000\n",
      "14         Dave Barnett    Caught  17.000000\n",
      "15         Dave Barnett       LBW   1.000000\n",
      "16         Dave Barnett   Not Out  20.250000\n",
      "17         David Cosway    Bowled   3.666667\n",
      "18         David Cosway   Not Out   2.000000\n",
      "19         David Cosway   Stumped   8.000000\n",
      "20           Guy Walker   Not Out  14.500000\n",
      "21           Guy Walker   Run Out  17.000000\n",
      "22  Herculano Rodrigues    Bowled   6.666667\n",
      "23  Herculano Rodrigues    Caught  17.250000\n",
      "24  Herculano Rodrigues       LBW  23.000000\n",
      "25  Herculano Rodrigues   Not Out  50.000000\n",
      "26        Jared Fagberg    Bowled   2.000000\n",
      "27        Jared Fagberg    Caught  12.200000\n",
      "28        Jared Fagberg       LBW  31.000000\n",
      "29        Jared Fagberg   Not Out  47.333333\n",
      "30    Laurence Williams    Bowled  47.000000\n",
      "31    Laurence Williams   Not Out  50.000000\n",
      "32     Loughlin Magowan    Bowled   0.500000\n",
      "33     Loughlin Magowan    Caught   1.000000\n",
      "34     Loughlin Magowan   Run Out   1.000000\n",
      "35      Scott Learmonth    Bowled  28.000000\n",
      "36      Scott Learmonth    Caught  22.333333\n",
      "37      Scott Learmonth   Not Out  34.875000\n",
      "38          Sohail Abdi    Bowled   2.000000\n",
      "39          Sohail Abdi       LBW   8.000000\n",
      "40          Sohail Abdi   Not Out  19.000000\n",
      "41          Sohail Abdi   Stumped   5.000000\n",
      "42           Tridib Das    Caught   5.000000\n",
      "43           Tridib Das   Not Out  19.000000\n"
     ]
    }
   ],
   "source": [
    "# Find the average number of runs per dismissal for each player\n",
    "average_runs_per_dismissal = df.groupby(['Batsmen', 'Dismissal'])['Runs'].mean().reset_index()\n",
    "print(\"Average Runs per Dismissal for each player: \\n\", *average_runs_per_dismissal)"
   ]
  },
  {
   "cell_type": "markdown",
   "id": "8d9d5d8c-9318-4700-a379-34c6e428909f",
   "metadata": {},
   "source": [
    "### Number of times each player has been dismissed for each dismissal type"
   ]
  },
  {
   "cell_type": "code",
   "execution_count": 249,
   "id": "a7709350-2998-45aa-8084-f594e09151aa",
   "metadata": {},
   "outputs": [
    {
     "name": "stdout",
     "output_type": "stream",
     "text": [
      "Count of Dismissals for each player: \n",
      "                 Batsmen Dismissal  Count\n",
      "0          Alan Elliott    Bowled      2\n",
      "1          Alan Elliott    Caught      8\n",
      "2          Alan Elliott       LBW      1\n",
      "3          Alan Elliott   Not Out     10\n",
      "4          Alan Elliott   Stumped      1\n",
      "5         Charan Lochan    Bowled      2\n",
      "6         Charan Lochan    Caught      8\n",
      "7         Charan Lochan       LBW      1\n",
      "8         Charan Lochan   Not Out      7\n",
      "9           Dave Barlow    Bowled      3\n",
      "10          Dave Barlow    Caught      3\n",
      "11          Dave Barlow   Not Out      3\n",
      "12          Dave Barlow   Run Out      1\n",
      "13         Dave Barnett    Bowled      1\n",
      "14         Dave Barnett    Caught      3\n",
      "15         Dave Barnett       LBW      1\n",
      "16         Dave Barnett   Not Out      4\n",
      "17         David Cosway    Bowled      3\n",
      "18         David Cosway   Not Out      1\n",
      "19         David Cosway   Stumped      1\n",
      "20           Guy Walker   Not Out      4\n",
      "21           Guy Walker   Run Out      1\n",
      "22  Herculano Rodrigues    Bowled      3\n",
      "23  Herculano Rodrigues    Caught      4\n",
      "24  Herculano Rodrigues       LBW      1\n",
      "25  Herculano Rodrigues   Not Out      1\n",
      "26        Jared Fagberg    Bowled      1\n",
      "27        Jared Fagberg    Caught     10\n",
      "28        Jared Fagberg       LBW      1\n",
      "29        Jared Fagberg   Not Out      9\n",
      "30    Laurence Williams    Bowled      1\n",
      "31    Laurence Williams   Not Out      3\n",
      "32     Loughlin Magowan    Bowled      2\n",
      "33     Loughlin Magowan    Caught      1\n",
      "34     Loughlin Magowan   Run Out      1\n",
      "35      Scott Learmonth    Bowled      6\n",
      "36      Scott Learmonth    Caught      6\n",
      "37      Scott Learmonth   Not Out      8\n",
      "38          Sohail Abdi    Bowled      4\n",
      "39          Sohail Abdi       LBW      1\n",
      "40          Sohail Abdi   Not Out      2\n",
      "41          Sohail Abdi   Stumped      1\n",
      "42           Tridib Das    Caught      1\n",
      "43           Tridib Das   Not Out      4\n"
     ]
    }
   ],
   "source": [
    "#Find the number of times each player has been dismissed for each mode of dismissal\n",
    "dismissal_count = df.groupby(['Batsmen', 'Dismissal']).size().reset_index(name='Count')\n",
    "print(\"Count of Dismissals for each player: \\n\", *dismissal_count)\n"
   ]
  },
  {
   "cell_type": "markdown",
   "id": "53410d6a-2b5c-4a43-903d-8286c0dc4e6f",
   "metadata": {},
   "source": [
    "### Percentage of innings a player has hit 50"
   ]
  },
  {
   "cell_type": "code",
   "execution_count": 250,
   "id": "1e5dfd6f-5d2b-4bf1-8502-1c0d63a93e28",
   "metadata": {},
   "outputs": [
    {
     "name": "stdout",
     "output_type": "stream",
     "text": [
      "Percentage of Innings player has hit a 50: \n",
      " Batsmen\n",
      "Alan Elliott            9.090909\n",
      "Charan Lochan          44.444444\n",
      "Dave Barlow            10.000000\n",
      "Dave Barnett            0.000000\n",
      "David Cosway            0.000000\n",
      "Guy Walker             20.000000\n",
      "Herculano Rodrigues    11.111111\n",
      "Jared Fagberg          33.333333\n",
      "Laurence Williams      75.000000\n",
      "Loughlin Magowan        0.000000\n",
      "Scott Learmonth        20.000000\n",
      "Sohail Abdi             0.000000\n",
      "Tridib Das              0.000000\n",
      "dtype: float64\n"
     ]
    }
   ],
   "source": [
    "#% Innings player hits 50\n",
    "player_50s = df.groupby('Batsmen')['Fifty'].sum()\n",
    "player_innings = df.groupby('Batsmen').size()\n",
    "percent_innings_50 = (player_50s / player_innings) * 100\n",
    "print(\"Percentage of Innings player has hit a 50: \\n\", *percent_innings_50)"
   ]
  },
  {
   "cell_type": "markdown",
   "id": "3f5d66cd-61c2-4c73-b649-4097b07ca388",
   "metadata": {},
   "source": [
    "### Average minutes per innings by each batter"
   ]
  },
  {
   "cell_type": "code",
   "execution_count": 251,
   "id": "6c8e2f23-679f-499f-b47e-ff8973d1d40b",
   "metadata": {},
   "outputs": [
    {
     "name": "stdout",
     "output_type": "stream",
     "text": [
      "Average number of minutes per inning: \n",
      " Batsmen\n",
      "Alan Elliott            9.518182\n",
      "Charan Lochan          12.533333\n",
      "Dave Barlow             8.220000\n",
      "Dave Barnett            6.533333\n",
      "David Cosway            2.400000\n",
      "Guy Walker              5.640000\n",
      "Herculano Rodrigues     8.000000\n",
      "Jared Fagberg           9.571429\n",
      "Laurence Williams      15.450000\n",
      "Loughlin Magowan        0.900000\n",
      "Scott Learmonth        10.950000\n",
      "Sohail Abdi             3.975000\n",
      "Tridib Das              9.240000\n",
      "Name: Minutes, dtype: float64\n"
     ]
    }
   ],
   "source": [
    "#Average number of minutes per inning\n",
    "average_minutes_per_inning = df.groupby('Batsmen')['Minutes'].mean()\n",
    "print(\"Average number of minutes per inning: \\n\", *average_minutes_per_inning)"
   ]
  },
  {
   "cell_type": "markdown",
   "id": "eb0150c2-92f9-4b36-bdd5-b045c9aa0e87",
   "metadata": {},
   "source": [
    "### Number of innings by batter"
   ]
  },
  {
   "cell_type": "code",
   "execution_count": 252,
   "id": "a24274b0-c13f-4c70-ad0f-b00510e985d4",
   "metadata": {},
   "outputs": [
    {
     "data": {
      "text/plain": [
       "Batsmen\n",
       "Alan Elliott           22\n",
       "Charan Lochan          18\n",
       "Dave Barlow            10\n",
       "Dave Barnett            9\n",
       "David Cosway            5\n",
       "Guy Walker              5\n",
       "Herculano Rodrigues     9\n",
       "Jared Fagberg          21\n",
       "Laurence Williams       4\n",
       "Loughlin Magowan        4\n",
       "Scott Learmonth        20\n",
       "Sohail Abdi             8\n",
       "Tridib Das              5\n",
       "dtype: int64"
      ]
     },
     "execution_count": 252,
     "metadata": {},
     "output_type": "execute_result"
    }
   ],
   "source": [
    "df.groupby('Batsmen').size()"
   ]
  },
  {
   "cell_type": "markdown",
   "id": "3f1be4e1-e6ab-4556-b407-183e245c6a2a",
   "metadata": {},
   "source": [
    "### Average runs by batting order and batter"
   ]
  },
  {
   "cell_type": "code",
   "execution_count": 253,
   "id": "a705f24a-2fb1-4168-ae48-5c0236bfb809",
   "metadata": {},
   "outputs": [
    {
     "name": "stdout",
     "output_type": "stream",
     "text": [
      "Average Runs per Inning for each player at each batting position: \n",
      "                 Batsmen  batting number       Runs\n",
      "0          Alan Elliott               1  17.000000\n",
      "1          Alan Elliott               2  27.000000\n",
      "2          Alan Elliott               3  35.250000\n",
      "3          Alan Elliott               4  28.000000\n",
      "4          Alan Elliott               5  18.400000\n",
      "5          Alan Elliott               6  32.000000\n",
      "6          Alan Elliott               7  11.333333\n",
      "7          Alan Elliott               8   7.000000\n",
      "8         Charan Lochan               1  36.250000\n",
      "9         Charan Lochan               2  46.571429\n",
      "10        Charan Lochan               4  16.500000\n",
      "11        Charan Lochan               5   0.000000\n",
      "12          Dave Barlow               2  50.000000\n",
      "13          Dave Barlow               3  45.000000\n",
      "14          Dave Barlow               4   2.000000\n",
      "15          Dave Barlow               5  10.000000\n",
      "16          Dave Barlow               6  18.000000\n",
      "17          Dave Barlow               7   3.000000\n",
      "18          Dave Barlow               8  11.000000\n",
      "19         Dave Barnett               2  38.000000\n",
      "20         Dave Barnett               4  22.000000\n",
      "21         Dave Barnett               5   7.000000\n",
      "22         Dave Barnett               6   7.000000\n",
      "23         Dave Barnett               7  13.250000\n",
      "24         David Cosway               5   8.000000\n",
      "25         David Cosway               6   5.000000\n",
      "26         David Cosway               8   2.666667\n",
      "27           Guy Walker               4  50.000000\n",
      "28           Guy Walker               6   5.666667\n",
      "29           Guy Walker               8   8.000000\n",
      "30  Herculano Rodrigues               1  24.666667\n",
      "31  Herculano Rodrigues               2  13.000000\n",
      "32  Herculano Rodrigues               5  23.000000\n",
      "33  Herculano Rodrigues               6  13.000000\n",
      "34        Jared Fagberg               1  41.000000\n",
      "35        Jared Fagberg               3  26.300000\n",
      "36        Jared Fagberg               4  30.333333\n",
      "37        Jared Fagberg               5  10.000000\n",
      "38        Jared Fagberg               6   2.000000\n",
      "39    Laurence Williams               1  48.500000\n",
      "40    Laurence Williams               3  50.000000\n",
      "41    Laurence Williams               6  50.000000\n",
      "42     Loughlin Magowan               1   1.000000\n",
      "43     Loughlin Magowan               2   1.000000\n",
      "44     Loughlin Magowan               6   0.000000\n",
      "45      Scott Learmonth               1  25.000000\n",
      "46      Scott Learmonth               2  24.600000\n",
      "47      Scott Learmonth               3  29.750000\n",
      "48      Scott Learmonth               4  35.285714\n",
      "49      Scott Learmonth               7  21.000000\n",
      "50          Sohail Abdi               2   8.000000\n",
      "51          Sohail Abdi               4   3.000000\n",
      "52          Sohail Abdi               5  10.750000\n",
      "53          Sohail Abdi               6   2.000000\n",
      "54           Tridib Das               4  29.000000\n",
      "55           Tridib Das               6   6.000000\n",
      "56           Tridib Das               8  15.333333\n"
     ]
    }
   ],
   "source": [
    "#Average runs at each batting order\n",
    "average_runs_per_inning = df.groupby(['Batsmen', 'batting number'])['Runs'].mean().reset_index()\n",
    "print(\"Average Runs per Inning for each player at each batting position: \\n\", *average_runs_per_inning)\n"
   ]
  },
  {
   "cell_type": "markdown",
   "id": "70787be4-cfc5-451a-91cf-04d785bfd39b",
   "metadata": {},
   "source": [
    "## Probability of scoring a 50\n",
    "\n",
    "The interesting compontent I want to pick up on is an analysis into the player conversion rates to 50. For some players we have a high conversion rate to 50, but a small sample size of innings. For others they have never hit a 50. We may pose the question, what is the true probability of hitting a 50 for each player? We can think this question is analogous to the coin tossing problem. If we toss a coint 4 times and acheive 4 heads. We are unlikely to suggest the coin has a probability of achieving a head 100% of the time."
   ]
  },
  {
   "cell_type": "markdown",
   "id": "5972044a-262f-4e8f-9095-d1cdf3e6d38f",
   "metadata": {},
   "source": [
    "### Bayesian Model\n",
    "\n",
    "One way to answer the question is to use a hierachical model. A hierachcial model essentially allows the model to share information across the players, through a shared distbrituion, this is referred to as the global parameter. Players are also able to deviate from this global parameter, with player specific parameters. \n",
    "\n",
    "For the probability of hitting a 50, we are going to assume there is are latent distributions which impact the players probability of hitting a 50. These are specified by the alpha which has its own global parameter. For players that have few innings, they are more likely to be informed by the global parameters.\n",
    "\n",
    "The model then takes these variables and transforms them using an inverse logit function. This inverse logit function scales the data between 0 and 1. This can therefore be interpreted as the probability of a player hitting a 50.\n",
    "\n",
    "A bernoulli distribution is then used. A bernoulli distribution. This is essentially because we can think of the problem being one trial. The player has one innings and either achieves a 50 or doesn't\n",
    "\n"
   ]
  },
  {
   "cell_type": "code",
   "execution_count": 272,
   "id": "ee11e36c-f811-42e4-91b7-04d0c35e501b",
   "metadata": {},
   "outputs": [
    {
     "name": "stderr",
     "output_type": "stream",
     "text": [
      "Auto-assigning NUTS sampler...\n",
      "Initializing NUTS using jitter+adapt_diag...\n",
      "Multiprocess sampling (4 chains in 4 jobs)\n",
      "NUTS: [alpha, player_alphas]\n"
     ]
    },
    {
     "data": {
      "text/html": [
       "\n",
       "<style>\n",
       "    /* Turns off some styling */\n",
       "    progress {\n",
       "        /* gets rid of default border in Firefox and Opera. */\n",
       "        border: none;\n",
       "        /* Needs to be in here for Safari polyfill so background images work as expected. */\n",
       "        background-size: auto;\n",
       "    }\n",
       "    progress:not([value]), progress:not([value])::-webkit-progress-bar {\n",
       "        background: repeating-linear-gradient(45deg, #7e7e7e, #7e7e7e 10px, #5c5c5c 10px, #5c5c5c 20px);\n",
       "    }\n",
       "    .progress-bar-interrupted, .progress-bar-interrupted::-webkit-progress-bar {\n",
       "        background: #F44336;\n",
       "    }\n",
       "</style>\n"
      ],
      "text/plain": [
       "<IPython.core.display.HTML object>"
      ]
     },
     "metadata": {},
     "output_type": "display_data"
    },
    {
     "data": {
      "text/html": [
       "\n",
       "    <div>\n",
       "      <progress value='12000' class='' max='12000' style='width:300px; height:20px; vertical-align: middle;'></progress>\n",
       "      100.00% [12000/12000 00:33&lt;00:00 Sampling 4 chains, 0 divergences]\n",
       "    </div>\n",
       "    "
      ],
      "text/plain": [
       "<IPython.core.display.HTML object>"
      ]
     },
     "metadata": {},
     "output_type": "display_data"
    },
    {
     "name": "stderr",
     "output_type": "stream",
     "text": [
      "Sampling 4 chains for 1_000 tune and 2_000 draw iterations (4_000 + 8_000 draws total) took 50 seconds.\n"
     ]
    }
   ],
   "source": [
    "# Create a list of player names\n",
    "players = df[\"Batsmen\"].unique()\n",
    "\n",
    "# Create a mapping from player names to player codes\n",
    "player_mapping = {player: i for i, player in enumerate(players)}\n",
    "\n",
    "# Convert player names to player codes\n",
    "df[\"Batsmen_code\"] = df[\"Batsmen\"].map(player_mapping)\n",
    "\n",
    "# Create the hierarchical model\n",
    "with pm.Model() as model:\n",
    "    # Global alpha and beta parameters\n",
    "    alpha = pm.Normal(\"alpha\", mu=0, sigma=10)\n",
    "\n",
    "    \n",
    "    # Player-specific alpha and beta parameters\n",
    "    player_alphas = pm.StudentT(\"player_alphas\", mu=alpha, nu=1, shape=len(players))\n",
    "\n",
    "    \n",
    "    # Calculate player-specific p values\n",
    "    p = pm.Deterministic(\"p\", pm.math.invlogit(player_alphas[df[\"Batsmen_code\"].values]))\n",
    "    \n",
    "    # Likelihood\n",
    "    fifty = pm.Bernoulli(\"fifty\", p=p, observed=df[\"Fifty\"].values)\n",
    "    \n",
    "    # Sampling\n",
    "    idata = pm.sample(draws=2000, chains=4)\n",
    "\n"
   ]
  },
  {
   "cell_type": "markdown",
   "id": "fe545076-0bbb-475e-87e0-6337d6c663a6",
   "metadata": {},
   "source": [
    "With the changes to the model, sampling has improved and the r_hats are now all 1"
   ]
  },
  {
   "cell_type": "code",
   "execution_count": 273,
   "id": "952883ab-f230-4cfb-88e2-ed96ea33192a",
   "metadata": {},
   "outputs": [
    {
     "data": {
      "text/html": [
       "<div>\n",
       "<style scoped>\n",
       "    .dataframe tbody tr th:only-of-type {\n",
       "        vertical-align: middle;\n",
       "    }\n",
       "\n",
       "    .dataframe tbody tr th {\n",
       "        vertical-align: top;\n",
       "    }\n",
       "\n",
       "    .dataframe thead th {\n",
       "        text-align: right;\n",
       "    }\n",
       "</style>\n",
       "<table border=\"1\" class=\"dataframe\">\n",
       "  <thead>\n",
       "    <tr style=\"text-align: right;\">\n",
       "      <th></th>\n",
       "      <th>mean</th>\n",
       "      <th>sd</th>\n",
       "      <th>hdi_3%</th>\n",
       "      <th>hdi_97%</th>\n",
       "      <th>mcse_mean</th>\n",
       "      <th>mcse_sd</th>\n",
       "      <th>ess_bulk</th>\n",
       "      <th>ess_tail</th>\n",
       "      <th>r_hat</th>\n",
       "    </tr>\n",
       "  </thead>\n",
       "  <tbody>\n",
       "    <tr>\n",
       "      <th>alpha</th>\n",
       "      <td>-1.914</td>\n",
       "      <td>0.546</td>\n",
       "      <td>-2.915</td>\n",
       "      <td>-0.871</td>\n",
       "      <td>0.008</td>\n",
       "      <td>0.006</td>\n",
       "      <td>4344.0</td>\n",
       "      <td>4806.0</td>\n",
       "      <td>1.00</td>\n",
       "    </tr>\n",
       "    <tr>\n",
       "      <th>player_alphas[0]</th>\n",
       "      <td>-2.282</td>\n",
       "      <td>0.656</td>\n",
       "      <td>-3.556</td>\n",
       "      <td>-1.150</td>\n",
       "      <td>0.010</td>\n",
       "      <td>0.007</td>\n",
       "      <td>5162.0</td>\n",
       "      <td>3987.0</td>\n",
       "      <td>1.00</td>\n",
       "    </tr>\n",
       "    <tr>\n",
       "      <th>player_alphas[1]</th>\n",
       "      <td>-0.435</td>\n",
       "      <td>0.501</td>\n",
       "      <td>-1.372</td>\n",
       "      <td>0.497</td>\n",
       "      <td>0.006</td>\n",
       "      <td>0.005</td>\n",
       "      <td>7190.0</td>\n",
       "      <td>4218.0</td>\n",
       "      <td>1.00</td>\n",
       "    </tr>\n",
       "    <tr>\n",
       "      <th>player_alphas[2]</th>\n",
       "      <td>-0.918</td>\n",
       "      <td>0.472</td>\n",
       "      <td>-1.821</td>\n",
       "      <td>-0.062</td>\n",
       "      <td>0.006</td>\n",
       "      <td>0.005</td>\n",
       "      <td>6679.0</td>\n",
       "      <td>4901.0</td>\n",
       "      <td>1.00</td>\n",
       "    </tr>\n",
       "    <tr>\n",
       "      <th>player_alphas[3]</th>\n",
       "      <td>-1.580</td>\n",
       "      <td>0.551</td>\n",
       "      <td>-2.631</td>\n",
       "      <td>-0.578</td>\n",
       "      <td>0.007</td>\n",
       "      <td>0.005</td>\n",
       "      <td>6517.0</td>\n",
       "      <td>4461.0</td>\n",
       "      <td>1.00</td>\n",
       "    </tr>\n",
       "    <tr>\n",
       "      <th>...</th>\n",
       "      <td>...</td>\n",
       "      <td>...</td>\n",
       "      <td>...</td>\n",
       "      <td>...</td>\n",
       "      <td>...</td>\n",
       "      <td>...</td>\n",
       "      <td>...</td>\n",
       "      <td>...</td>\n",
       "      <td>...</td>\n",
       "    </tr>\n",
       "    <tr>\n",
       "      <th>p[135]</th>\n",
       "      <td>0.184</td>\n",
       "      <td>0.079</td>\n",
       "      <td>0.053</td>\n",
       "      <td>0.332</td>\n",
       "      <td>0.001</td>\n",
       "      <td>0.001</td>\n",
       "      <td>6517.0</td>\n",
       "      <td>4461.0</td>\n",
       "      <td>1.00</td>\n",
       "    </tr>\n",
       "    <tr>\n",
       "      <th>p[136]</th>\n",
       "      <td>0.295</td>\n",
       "      <td>0.094</td>\n",
       "      <td>0.134</td>\n",
       "      <td>0.476</td>\n",
       "      <td>0.001</td>\n",
       "      <td>0.001</td>\n",
       "      <td>6679.0</td>\n",
       "      <td>4901.0</td>\n",
       "      <td>1.00</td>\n",
       "    </tr>\n",
       "    <tr>\n",
       "      <th>p[137]</th>\n",
       "      <td>0.106</td>\n",
       "      <td>0.057</td>\n",
       "      <td>0.012</td>\n",
       "      <td>0.207</td>\n",
       "      <td>0.001</td>\n",
       "      <td>0.001</td>\n",
       "      <td>5162.0</td>\n",
       "      <td>3987.0</td>\n",
       "      <td>1.00</td>\n",
       "    </tr>\n",
       "    <tr>\n",
       "      <th>p[138]</th>\n",
       "      <td>0.079</td>\n",
       "      <td>0.083</td>\n",
       "      <td>0.000</td>\n",
       "      <td>0.228</td>\n",
       "      <td>0.001</td>\n",
       "      <td>0.001</td>\n",
       "      <td>661.0</td>\n",
       "      <td>231.0</td>\n",
       "      <td>1.01</td>\n",
       "    </tr>\n",
       "    <tr>\n",
       "      <th>p[139]</th>\n",
       "      <td>0.051</td>\n",
       "      <td>0.060</td>\n",
       "      <td>0.000</td>\n",
       "      <td>0.164</td>\n",
       "      <td>0.002</td>\n",
       "      <td>0.001</td>\n",
       "      <td>138.0</td>\n",
       "      <td>39.0</td>\n",
       "      <td>1.03</td>\n",
       "    </tr>\n",
       "  </tbody>\n",
       "</table>\n",
       "<p>154 rows × 9 columns</p>\n",
       "</div>"
      ],
      "text/plain": [
       "                   mean     sd  hdi_3%  hdi_97%  mcse_mean  mcse_sd  ess_bulk  \\\n",
       "alpha            -1.914  0.546  -2.915   -0.871      0.008    0.006    4344.0   \n",
       "player_alphas[0] -2.282  0.656  -3.556   -1.150      0.010    0.007    5162.0   \n",
       "player_alphas[1] -0.435  0.501  -1.372    0.497      0.006    0.005    7190.0   \n",
       "player_alphas[2] -0.918  0.472  -1.821   -0.062      0.006    0.005    6679.0   \n",
       "player_alphas[3] -1.580  0.551  -2.631   -0.578      0.007    0.005    6517.0   \n",
       "...                 ...    ...     ...      ...        ...      ...       ...   \n",
       "p[135]            0.184  0.079   0.053    0.332      0.001    0.001    6517.0   \n",
       "p[136]            0.295  0.094   0.134    0.476      0.001    0.001    6679.0   \n",
       "p[137]            0.106  0.057   0.012    0.207      0.001    0.001    5162.0   \n",
       "p[138]            0.079  0.083   0.000    0.228      0.001    0.001     661.0   \n",
       "p[139]            0.051  0.060   0.000    0.164      0.002    0.001     138.0   \n",
       "\n",
       "                  ess_tail  r_hat  \n",
       "alpha               4806.0   1.00  \n",
       "player_alphas[0]    3987.0   1.00  \n",
       "player_alphas[1]    4218.0   1.00  \n",
       "player_alphas[2]    4901.0   1.00  \n",
       "player_alphas[3]    4461.0   1.00  \n",
       "...                    ...    ...  \n",
       "p[135]              4461.0   1.00  \n",
       "p[136]              4901.0   1.00  \n",
       "p[137]              3987.0   1.00  \n",
       "p[138]               231.0   1.01  \n",
       "p[139]                39.0   1.03  \n",
       "\n",
       "[154 rows x 9 columns]"
      ]
     },
     "execution_count": 273,
     "metadata": {},
     "output_type": "execute_result"
    }
   ],
   "source": [
    "pm.summary(idata)"
   ]
  },
  {
   "cell_type": "markdown",
   "id": "b9247f86-5075-4a78-bc9d-daab86621eac",
   "metadata": {},
   "source": [
    "## Summary of results\n",
    "\n",
    "Now we have run our model, we can extract the posterior values for the players and calculate the true probability of hitting a 50. You can see for some players there is a large amount of uncertainty. This is due to them not having many innings. The certainty behind their conversion rate will imrpove with the number of innings they play. Additonally, we now have probabilities for players who have never previously hit a 50 too, this is because the model has shared information across players."
   ]
  },
  {
   "cell_type": "code",
   "execution_count": 274,
   "id": "4b26e73f-1970-498f-af96-ac0ef9b2181c",
   "metadata": {},
   "outputs": [
    {
     "name": "stdout",
     "output_type": "stream",
     "text": [
      "Probability of hitting a 50\n"
     ]
    },
    {
     "data": {
      "text/html": [
       "<div>\n",
       "<style scoped>\n",
       "    .dataframe tbody tr th:only-of-type {\n",
       "        vertical-align: middle;\n",
       "    }\n",
       "\n",
       "    .dataframe tbody tr th {\n",
       "        vertical-align: top;\n",
       "    }\n",
       "\n",
       "    .dataframe thead th {\n",
       "        text-align: right;\n",
       "    }\n",
       "</style>\n",
       "<table border=\"1\" class=\"dataframe\">\n",
       "  <thead>\n",
       "    <tr style=\"text-align: right;\">\n",
       "      <th></th>\n",
       "      <th>Alan Elliott</th>\n",
       "      <th>Charan Lochan</th>\n",
       "      <th>Jared Fagberg</th>\n",
       "      <th>Scott Learmonth</th>\n",
       "      <th>Dave Barlow</th>\n",
       "      <th>Guy Walker</th>\n",
       "      <th>Sohail Abdi</th>\n",
       "      <th>Laurence Williams</th>\n",
       "      <th>Dave Barnett</th>\n",
       "      <th>David Cosway</th>\n",
       "      <th>Herculano Rodrigues</th>\n",
       "      <th>Loughlin Magowan</th>\n",
       "      <th>Tridib Das</th>\n",
       "    </tr>\n",
       "  </thead>\n",
       "  <tbody>\n",
       "    <tr>\n",
       "      <th>mean</th>\n",
       "      <td>9.60%</td>\n",
       "      <td>39.45%</td>\n",
       "      <td>28.78%</td>\n",
       "      <td>17.43%</td>\n",
       "      <td>10.47%</td>\n",
       "      <td>15.50%</td>\n",
       "      <td>2.72%</td>\n",
       "      <td>60.21%</td>\n",
       "      <td>2.00%</td>\n",
       "      <td>4.21%</td>\n",
       "      <td>11.12%</td>\n",
       "      <td>4.55%</td>\n",
       "      <td>4.26%</td>\n",
       "    </tr>\n",
       "    <tr>\n",
       "      <th>min</th>\n",
       "      <td>2.73%</td>\n",
       "      <td>18.26%</td>\n",
       "      <td>15.62%</td>\n",
       "      <td>5.53%</td>\n",
       "      <td>1.55%</td>\n",
       "      <td>2.99%</td>\n",
       "      <td>0.00%</td>\n",
       "      <td>20.17%</td>\n",
       "      <td>0.00%</td>\n",
       "      <td>0.00%</td>\n",
       "      <td>1.89%</td>\n",
       "      <td>0.00%</td>\n",
       "      <td>0.00%</td>\n",
       "    </tr>\n",
       "    <tr>\n",
       "      <th>25%</th>\n",
       "      <td>7.71%</td>\n",
       "      <td>35.25%</td>\n",
       "      <td>25.43%</td>\n",
       "      <td>14.72%</td>\n",
       "      <td>7.72%</td>\n",
       "      <td>11.21%</td>\n",
       "      <td>0.30%</td>\n",
       "      <td>50.18%</td>\n",
       "      <td>0.01%</td>\n",
       "      <td>0.75%</td>\n",
       "      <td>8.11%</td>\n",
       "      <td>1.11%</td>\n",
       "      <td>0.79%</td>\n",
       "    </tr>\n",
       "    <tr>\n",
       "      <th>50%</th>\n",
       "      <td>9.44%</td>\n",
       "      <td>39.23%</td>\n",
       "      <td>28.49%</td>\n",
       "      <td>17.15%</td>\n",
       "      <td>10.11%</td>\n",
       "      <td>14.62%</td>\n",
       "      <td>1.67%</td>\n",
       "      <td>60.83%</td>\n",
       "      <td>0.79%</td>\n",
       "      <td>3.44%</td>\n",
       "      <td>10.77%</td>\n",
       "      <td>3.27%</td>\n",
       "      <td>3.23%</td>\n",
       "    </tr>\n",
       "    <tr>\n",
       "      <th>75%</th>\n",
       "      <td>11.25%</td>\n",
       "      <td>43.31%</td>\n",
       "      <td>31.81%</td>\n",
       "      <td>20.10%</td>\n",
       "      <td>12.79%</td>\n",
       "      <td>19.11%</td>\n",
       "      <td>4.33%</td>\n",
       "      <td>69.86%</td>\n",
       "      <td>3.14%</td>\n",
       "      <td>6.47%</td>\n",
       "      <td>13.61%</td>\n",
       "      <td>6.85%</td>\n",
       "      <td>6.68%</td>\n",
       "    </tr>\n",
       "    <tr>\n",
       "      <th>max</th>\n",
       "      <td>22.32%</td>\n",
       "      <td>58.62%</td>\n",
       "      <td>45.86%</td>\n",
       "      <td>31.94%</td>\n",
       "      <td>28.89%</td>\n",
       "      <td>44.56%</td>\n",
       "      <td>24.01%</td>\n",
       "      <td>95.30%</td>\n",
       "      <td>16.16%</td>\n",
       "      <td>22.01%</td>\n",
       "      <td>28.71%</td>\n",
       "      <td>29.48%</td>\n",
       "      <td>25.82%</td>\n",
       "    </tr>\n",
       "  </tbody>\n",
       "</table>\n",
       "</div>"
      ],
      "text/plain": [
       "     Alan Elliott Charan Lochan Jared Fagberg Scott Learmonth Dave Barlow  \\\n",
       "mean        9.60%        39.45%        28.78%          17.43%      10.47%   \n",
       "min         2.73%        18.26%        15.62%           5.53%       1.55%   \n",
       "25%         7.71%        35.25%        25.43%          14.72%       7.72%   \n",
       "50%         9.44%        39.23%        28.49%          17.15%      10.11%   \n",
       "75%        11.25%        43.31%        31.81%          20.10%      12.79%   \n",
       "max        22.32%        58.62%        45.86%          31.94%      28.89%   \n",
       "\n",
       "     Guy Walker Sohail Abdi Laurence Williams Dave Barnett David Cosway  \\\n",
       "mean     15.50%       2.72%            60.21%        2.00%        4.21%   \n",
       "min       2.99%       0.00%            20.17%        0.00%        0.00%   \n",
       "25%      11.21%       0.30%            50.18%        0.01%        0.75%   \n",
       "50%      14.62%       1.67%            60.83%        0.79%        3.44%   \n",
       "75%      19.11%       4.33%            69.86%        3.14%        6.47%   \n",
       "max      44.56%      24.01%            95.30%       16.16%       22.01%   \n",
       "\n",
       "     Herculano Rodrigues Loughlin Magowan Tridib Das  \n",
       "mean              11.12%            4.55%      4.26%  \n",
       "min                1.89%            0.00%      0.00%  \n",
       "25%                8.11%            1.11%      0.79%  \n",
       "50%               10.77%            3.27%      3.23%  \n",
       "75%               13.61%            6.85%      6.68%  \n",
       "max               28.71%           29.48%     25.82%  "
      ]
     },
     "execution_count": 274,
     "metadata": {},
     "output_type": "execute_result"
    }
   ],
   "source": [
    "#Calculating the players probability posteriors\n",
    "posterior_alpha = idata.posterior.mean(dim=\"chain\")[\"player_alphas\"].values\n",
    "p50_full_sample = pd.DataFrame(inv_logit((posterior_alpha)))*100\n",
    "\n",
    "# Get the keys of the mapping dictionary\n",
    "col_names = list(player_mapping.keys())\n",
    "\n",
    "# Rename the columns using the keys of the mapping dictionary\n",
    "print(\"Probability of hitting a 50\")\n",
    "p50_full_sample.columns = col_names\n",
    "p50_full_sample.describe().applymap(\"{:.2f}%\".format).drop([\"count\",\"std\"])\n"
   ]
  }
 ],
 "metadata": {
  "kernelspec": {
   "display_name": "Python 3 (ipykernel)",
   "language": "python",
   "name": "python3"
  },
  "language_info": {
   "codemirror_mode": {
    "name": "ipython",
    "version": 3
   },
   "file_extension": ".py",
   "mimetype": "text/x-python",
   "name": "python",
   "nbconvert_exporter": "python",
   "pygments_lexer": "ipython3",
   "version": "3.11.0"
  }
 },
 "nbformat": 4,
 "nbformat_minor": 5
}
